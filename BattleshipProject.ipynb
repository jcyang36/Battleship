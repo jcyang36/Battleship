{
 "cells": [
  {
   "cell_type": "code",
   "execution_count": 131,
   "metadata": {},
   "outputs": [],
   "source": [
    "import random\n",
    "import time\n",
    "\n",
    "def chooseActualPosition():\n",
    "    x=random.randint(1,5)\n",
    "    y=random.randint(1,5)\n",
    "\n",
    "        \n",
    "    \n",
    "    shiftValues=getPossibleDirectionsToShift(x,y)\n",
    "    \n",
    "    direction=chooseDirection(list(shiftValues.keys()))\n",
    "    \n",
    "    if direction==\"right\" or direction==\"left\":\n",
    "        x_2=shiftValues[direction]\n",
    "        y_2=y\n",
    "    if direction==\"up\" or direction==\"down\":\n",
    "        x_2=x\n",
    "        y_2=shiftValues[direction]\n",
    "    return((x,y),(x_2,y_2))\n",
    "    \n",
    "def getPossibleDirectionsToShift(x,y):\n",
    "    shiftValues={}\n",
    "    if x!=5:\n",
    "        shiftValues['right']=x+1\n",
    "    if x!=1:\n",
    "        shiftValues['left']=x-1\n",
    "    if y!=5:\n",
    "        shiftValues['up']=y+1\n",
    "    if y!=1:\n",
    "        shiftValues['down']=y-1\n",
    "    return shiftValues\n",
    "        \n",
    "def chooseDirection(possibleDirections):\n",
    "       \n",
    "    directionIndex=random.randint(1,len(possibleDirections)-1)\n",
    "    direction=possibleDirections[directionIndex]\n",
    "    return direction\n",
    "    \n",
    "def checkPositionGuess(x,y,x_actual,y_actual):\n",
    "    if x==x_actual and y==y_actual:\n",
    "        return True\n",
    "    else:\n",
    "        return False\n",
    "    \n",
    "def getPositionGuess():\n",
    "    x=random.randint(1,5)\n",
    "    y=random.randint(1,5)\n",
    "    print(\"My guess is...\")\n",
    "    timeDelay=random.randrange(0,3)\n",
    "    time.sleep(timeDelay)\n",
    "    return x,y\n",
    "    \n",
    "def createShip():\n",
    "    ship={\"coordinates\":\"\"}\n",
    "    ship[\"coordinates\"]=chooseActualPosition()\n",
    "    return ship\n",
    "\n",
    "def playGame():\n",
    "    correct_results=0\n",
    "    myShip=createShip()\n",
    "    x,y=getPositionGuess()\n",
    "    if checkPositionGuess(x,y,myShip[\"coordinates\"][0][0],myShip[\"coordinates\"][0][1]):\n",
    "        result= True\n",
    "    elif checkPositionGuess(x,y,myShip[\"coordinates\"][1][0],myShip[\"coordinates\"][1][1]):\n",
    "        result= True\n",
    "    else: \n",
    "        result=False\n",
    "    correct_results+=1"
   ]
  },
  {
   "cell_type": "code",
   "execution_count": 132,
   "metadata": {},
   "outputs": [
    {
     "data": {
      "text/plain": [
       "{'coordinates': ((5, 5), (5, 4))}"
      ]
     },
     "execution_count": 132,
     "metadata": {},
     "output_type": "execute_result"
    }
   ],
   "source": [
    "createShip()"
   ]
  },
  {
   "cell_type": "code",
   "execution_count": 133,
   "metadata": {},
   "outputs": [
    {
     "name": "stdout",
     "output_type": "stream",
     "text": [
      "My guess is...\n"
     ]
    },
    {
     "data": {
      "text/plain": [
       "(3, 4)"
      ]
     },
     "execution_count": 133,
     "metadata": {},
     "output_type": "execute_result"
    }
   ],
   "source": [
    "getPositionGuess()"
   ]
  },
  {
   "cell_type": "code",
   "execution_count": 137,
   "metadata": {},
   "outputs": [
    {
     "name": "stdout",
     "output_type": "stream",
     "text": [
      "My guess is...\n"
     ]
    }
   ],
   "source": [
    "playGame()"
   ]
  },
  {
   "cell_type": "code",
   "execution_count": null,
   "metadata": {},
   "outputs": [],
   "source": []
  }
 ],
 "metadata": {
  "kernelspec": {
   "display_name": "Python 3",
   "language": "python",
   "name": "python3"
  },
  "language_info": {
   "codemirror_mode": {
    "name": "ipython",
    "version": 3
   },
   "file_extension": ".py",
   "mimetype": "text/x-python",
   "name": "python",
   "nbconvert_exporter": "python",
   "pygments_lexer": "ipython3",
   "version": "3.7.3"
  }
 },
 "nbformat": 4,
 "nbformat_minor": 2
}
